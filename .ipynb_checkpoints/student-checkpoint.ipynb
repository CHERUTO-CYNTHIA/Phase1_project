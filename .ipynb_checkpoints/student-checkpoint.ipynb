{
 "cells": [
  {
   "cell_type": "markdown",
   "metadata": {},
   "source": [
    "## Final Project Submission\n",
    "\n",
    "Please fill out:\n",
    "* Student name: CYNTHIA CHERUTO\n",
    "* Student pace:  full time\n",
    "* Instructor name: MWIKALI MARYANNE\n",
    "\n"
   ]
  },
  {
   "cell_type": "code",
   "execution_count": null,
   "metadata": {},
   "outputs": [],
   "source": [
    "#importing pandas and libraries\n",
    "import pandas as pd \n",
    "import matplotlib.pyplot as plt\n",
    "import numpy as np\n",
    "import seaborn as sn\n",
    "%matplotlib inline"
   ]
  },
  {
   "cell_type": "code",
   "execution_count": null,
   "metadata": {},
   "outputs": [],
   "source": [
    "#reading the csv file using pandas\n",
    "df=pd.read_csv('data/Aviation_Data.csv',low_memory=False)"
   ]
  },
  {
   "cell_type": "code",
   "execution_count": null,
   "metadata": {},
   "outputs": [],
   "source": [
    "df"
   ]
  },
  {
   "cell_type": "code",
   "execution_count": null,
   "metadata": {},
   "outputs": [],
   "source": [
    "df.shape"
   ]
  },
  {
   "cell_type": "code",
   "execution_count": null,
   "metadata": {},
   "outputs": [],
   "source": [
    "#method to check if our dataset is clean\n",
    "df.info()"
   ]
  },
  {
   "cell_type": "code",
   "execution_count": null,
   "metadata": {},
   "outputs": [],
   "source": [
    "#finding the missing values\n",
    "df.isna().sum()"
   ]
  },
  {
   "cell_type": "code",
   "execution_count": null,
   "metadata": {},
   "outputs": [],
   "source": [
    "#finding the percent of missing values\n",
    "df.isna().mean()*100"
   ]
  },
  {
   "cell_type": "code",
   "execution_count": null,
   "metadata": {},
   "outputs": [],
   "source": [
    "#dropping this columns; latitude,longitude,Aircraft.Category,FAR.Description,Schedule,Air.carrier\n",
    "#reason of dropping the columns :the percentage of missing values are higher\n",
    "df=df.drop(['Latitude','Longitude','Aircraft.Category','FAR.Description','Schedule','Air.carrier','Airport.Code','Airport.Name'],axis=1)\n",
    "df"
   ]
  },
  {
   "cell_type": "code",
   "execution_count": null,
   "metadata": {},
   "outputs": [],
   "source": [
    "df.describe()"
   ]
  },
  {
   "cell_type": "code",
   "execution_count": null,
   "metadata": {},
   "outputs": [],
   "source": [
    "#dealing with numerical missing values \n",
    "df['Number.of.Engines'].fillna(df['Number.of.Engines'].mean(), inplace=True)\n",
    "df['Total.Fatal.Injuries'].fillna(0, inplace=True)\n",
    "df['Total.Serious.Injuries'].fillna(0,inplace=True)\n",
    "df['Total.Minor.Injuries'].fillna(0,inplace=True)\n",
    "df['Total.Uninjured'].fillna(df['Total.Uninjured'].median(),inplace=True)\n",
    "\n"
   ]
  },
  {
   "cell_type": "code",
   "execution_count": null,
   "metadata": {},
   "outputs": [],
   "source": [
    "df.isna().sum()"
   ]
  },
  {
   "cell_type": "code",
   "execution_count": null,
   "metadata": {},
   "outputs": [],
   "source": [
    "# Drop rows with missing unique values\n",
    "unique_data=['Event.Id','Accident.Number']\n",
    "df.dropna(subset=(unique_data), inplace=True)\n",
    "\n"
   ]
  },
  {
   "cell_type": "code",
   "execution_count": null,
   "metadata": {},
   "outputs": [],
   "source": [
    "categorical_columns = [\n",
    "    'Location', 'Country', 'Injury.Severity', 'Aircraft.damage',\n",
    "    'Registration.Number', 'Make', 'Model', 'Amateur.Built',\n",
    "    'Engine.Type', 'Purpose.of.flight', 'Weather.Condition',\n",
    "    'Broad.phase.of.flight', 'Report.Status', 'Publication.Date'\n",
    "]\n",
    "for column in categorical_columns:\n",
    "    if df[column].isnull().mean() < 0.1:  \n",
    "        mode_value = df[column].mode()[0]  \n",
    "        df[column].fillna(mode_value, inplace=True)"
   ]
  },
  {
   "cell_type": "code",
   "execution_count": null,
   "metadata": {},
   "outputs": [],
   "source": [
    "df.isna().sum()"
   ]
  },
  {
   "cell_type": "code",
   "execution_count": null,
   "metadata": {},
   "outputs": [],
   "source": [
    "#Drop rows where columns are missing\n",
    "df_cleaned = df.dropna(subset=['Broad.phase.of.flight', 'Publication.Date'])\n",
    "df['Broad.phase.of.flight'] = df['Broad.phase.of.flight'].fillna('Unknown')\n",
    "df['Publication.Date'] = df['Publication.Date'].fillna('Unknown')\n",
    "df_cleaned = df.drop(['Broad.phase.of.flight', 'Publication.Date'], axis=1)"
   ]
  },
  {
   "cell_type": "code",
   "execution_count": null,
   "metadata": {},
   "outputs": [],
   "source": [
    "#confirming if our data is clean\n",
    "df.info()"
   ]
  },
  {
   "cell_type": "code",
   "execution_count": null,
   "metadata": {},
   "outputs": [],
   "source": [
    "###Business understanding\n",
    "'''Overview:Goal:\n",
    "The goal of this project is to analyze aviation accident data to identify the lowest-risk aircraft for your company to purchase. The company is expanding into the aviation industry and needs data-driven insights to make informed decisions about which aircraft models to acquire.\n",
    "###Key questions to help in the business understanding \n",
    "1:aircraft model that has been involved with many accidents?\n",
    "2:Identify risk factors associated with aircraft operations like; accident rates, fuel efficiency,operational costs,manufacturer reputation,resale value'''"
   ]
  },
  {
   "cell_type": "code",
   "execution_count": null,
   "metadata": {},
   "outputs": [],
   "source": [
    "#encode the categorical values into 0s and 1s\n",
    "df_corr=pd.get_dummies(df)\n",
    "#calculate the corr_matrix of the entire dataset\n",
    "corr_matrix=df_corr.corr()\n",
    "\n",
    "\n",
    "#lets use a heat mapp to find the corr\n",
    "# Step 3: Plot the heatmap with values\n",
    "plt.figure(figsize=(20, 15))  # Set the size of the heatmap\n",
    "sns.heatmap(corr_matrix, annot=True, cmap=\"coolwarm\", fmt='.2f')\n",
    "\n",
    "# Add title and labels\n",
    "plt.title('Correlation Matrix: Numerical and Categorical Columns (Encoded)', fontsize=18)\n",
    "plt.xticks(rotation=90, fontsize=12)\n",
    "plt.yticks(fontsize=12)\n",
    "\n",
    "# Show the heatmap\n",
    "plt.show()"
   ]
  },
  {
   "cell_type": "code",
   "execution_count": null,
   "metadata": {},
   "outputs": [],
   "source": []
  }
 ],
 "metadata": {
  "kernelspec": {
   "display_name": "Python (learn-env)",
   "language": "python",
   "name": "learn-env"
  },
  "language_info": {
   "codemirror_mode": {
    "name": "ipython",
    "version": 3
   },
   "file_extension": ".py",
   "mimetype": "text/x-python",
   "name": "python",
   "nbconvert_exporter": "python",
   "pygments_lexer": "ipython3",
   "version": "3.8.5"
  }
 },
 "nbformat": 4,
 "nbformat_minor": 2
}
